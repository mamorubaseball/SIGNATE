{
 "cells": [
  {
   "cell_type": "code",
   "execution_count": 12,
   "id": "3fa0e71e-a909-4566-bf7d-0606144156bf",
   "metadata": {},
   "outputs": [],
   "source": [
    "import pandas as pd\n",
    "from matplotlib import pyplot as plt\n",
    "from sklearn.model_selection import train_test_split\n",
    "from sklearn.metrics import accuracy_score,precision_score\n",
    "from sklearn.metrics import confusion_matrix\n",
    "import numpy as np\n",
    "import datetime\n",
    "import xgboost as xgb\n",
    "import pickle\n",
    "import seaborn as sns"
   ]
  },
  {
   "cell_type": "code",
   "execution_count": 13,
   "id": "35e52dd1-d8f5-46e6-9c5f-75c9a500e09b",
   "metadata": {},
   "outputs": [],
   "source": [
    "def make_data():\n",
    "    df=pd.read_csv('status.csv')\n",
    "    train=df[df['predict']==0]\n",
    "    test=df[df['predict']==1]\n",
    "    #欠損値の除去；利用可能バイクの量が欠損している場合除去\n",
    "    train.dropna(subset=['bikes_available'])\n",
    "    train.to_csv('train.csv',index=False)\n",
    "    test.to_csv('test.csv',index=False)\n",
    "\n",
    "train=pd.read_csv('train.csv')\n",
    "train=train.dropna(subset=['bikes_available'])\n",
    "train.to_csv('train.csv',index=False)\n",
    "\n",
    "    "
   ]
  },
  {
   "cell_type": "code",
   "execution_count": 14,
   "id": "c1bf5e48-9ffd-4ebf-b552-35720a66249d",
   "metadata": {
    "tags": []
   },
   "outputs": [],
   "source": [
    "#データの可視化\n",
    "#；ステーションIDの数\n",
    "status = pd.read_csv(\"status.csv\")\n",
    "status[\"date\"] = pd.to_datetime(status[[\"year\", \"month\", \"day\", \"hour\"]])\n",
    "\n",
    "pred_days = [\n",
    "    \"2014-04-01\",\n",
    "    \"2014-04-02\",\n",
    "    \"2014-04-03\",\n",
    "    \"2014-04-04\",\n",
    "    \"2014-04-05\",\n",
    "    \"2014-04-06\",\n",
    "    \"2014-04-07\",\n",
    "    \"2014-08-01\",\n",
    "    \"2014-08-02\",\n",
    "    \"2014-08-03\",\n",
    "    \"2014-08-04\",\n",
    "    \"2014-08-05\",\n",
    "    \"2014-08-06\",\n",
    "    \"2014-08-07\",\n",
    "]"
   ]
  },
  {
   "cell_type": "code",
   "execution_count": 15,
   "id": "d61d5ecf-62db-489d-a482-05e433a0f7de",
   "metadata": {},
   "outputs": [],
   "source": [
    "import IPython\n",
    "\n",
    "\n",
    "def display(*dfs, head=True):\n",
    "    for df in dfs:\n",
    "        IPython.display.display(df.head() if head else df)\n",
    "\n",
    "class CustomTimesSeriesSplitter:\n",
    "    def __init__(self,pred_days,day_col='date'):\n",
    "        self.day_col=day_col\n",
    "        self.test_days=1\n",
    "        self.pred_days=pred_days\n",
    "        \n",
    "    def split(self, X):\n",
    "        for target_day in self.pred_days:\n",
    "            target_day = pd.to_datetime(target_day)\n",
    "            # train_start = X[\"date\"].min()\n",
    "            train_start = X[\"date\"].min()\n",
    "            train_end = X[X[\"date\"] == target_day][\"date\"].iloc[0]  # - datetime.timedelta(days=1)\n",
    "            val_start = X[X[\"date\"] == target_day][\"date\"].iloc[0]  # - datetime.timedelta(days=1)\n",
    "            val_end = X[X[\"date\"] == target_day][\"date\"].iloc[0] + datetime.timedelta(days=1)\n",
    "            # train_end =\n",
    "            # val_start = X[X[\"date\"] == target_day][\"date\"].iloc[0]\n",
    "\n",
    "            train_mask = (train_start <= X[\"date\"]) & (X[\"date\"] <= train_end)\n",
    "            val_mask = (val_start < X[\"date\"]) & (X[\"date\"] < val_end)\n",
    "\n",
    "            yield X[train_mask].index.values, X[val_mask].index.values\n",
    "\n",
    "    def get_n_splits(self):\n",
    "        return len(self.pred_days)\n",
    "cv=CustomTimesSeriesSplitter(pred_days)\n",
    "\n",
    "    "
   ]
  },
  {
   "cell_type": "code",
   "execution_count": 17,
   "id": "5692b20e-10f9-401d-8b3a-135dbe3bb1fc",
   "metadata": {},
   "outputs": [
    {
     "name": "stdout",
     "output_type": "stream",
     "text": [
      "----- Fold: (1 / 14) -----\n"
     ]
    },
    {
     "data": {
      "text/html": [
       "<div>\n",
       "<style scoped>\n",
       "    .dataframe tbody tr th:only-of-type {\n",
       "        vertical-align: middle;\n",
       "    }\n",
       "\n",
       "    .dataframe tbody tr th {\n",
       "        vertical-align: top;\n",
       "    }\n",
       "\n",
       "    .dataframe thead th {\n",
       "        text-align: right;\n",
       "    }\n",
       "</style>\n",
       "<table border=\"1\" class=\"dataframe\">\n",
       "  <thead>\n",
       "    <tr style=\"text-align: right;\">\n",
       "      <th></th>\n",
       "      <th>start</th>\n",
       "      <th>end</th>\n",
       "    </tr>\n",
       "  </thead>\n",
       "  <tbody>\n",
       "    <tr>\n",
       "      <th>train</th>\n",
       "      <td>2013-09-01 00:00:00</td>\n",
       "      <td>2014-04-01 00:00:00</td>\n",
       "    </tr>\n",
       "    <tr>\n",
       "      <th>test</th>\n",
       "      <td>2014-04-01 01:00:00</td>\n",
       "      <td>2014-04-01 23:00:00</td>\n",
       "    </tr>\n",
       "  </tbody>\n",
       "</table>\n",
       "</div>"
      ],
      "text/plain": [
       "                    start                 end\n",
       "train 2013-09-01 00:00:00 2014-04-01 00:00:00\n",
       "test  2014-04-01 01:00:00 2014-04-01 23:00:00"
      ]
     },
     "metadata": {},
     "output_type": "display_data"
    },
    {
     "name": "stdout",
     "output_type": "stream",
     "text": [
      "----- Fold: (2 / 14) -----\n"
     ]
    },
    {
     "data": {
      "text/html": [
       "<div>\n",
       "<style scoped>\n",
       "    .dataframe tbody tr th:only-of-type {\n",
       "        vertical-align: middle;\n",
       "    }\n",
       "\n",
       "    .dataframe tbody tr th {\n",
       "        vertical-align: top;\n",
       "    }\n",
       "\n",
       "    .dataframe thead th {\n",
       "        text-align: right;\n",
       "    }\n",
       "</style>\n",
       "<table border=\"1\" class=\"dataframe\">\n",
       "  <thead>\n",
       "    <tr style=\"text-align: right;\">\n",
       "      <th></th>\n",
       "      <th>start</th>\n",
       "      <th>end</th>\n",
       "    </tr>\n",
       "  </thead>\n",
       "  <tbody>\n",
       "    <tr>\n",
       "      <th>train</th>\n",
       "      <td>2013-09-01 00:00:00</td>\n",
       "      <td>2014-04-02 00:00:00</td>\n",
       "    </tr>\n",
       "    <tr>\n",
       "      <th>test</th>\n",
       "      <td>2014-04-02 01:00:00</td>\n",
       "      <td>2014-04-02 23:00:00</td>\n",
       "    </tr>\n",
       "  </tbody>\n",
       "</table>\n",
       "</div>"
      ],
      "text/plain": [
       "                    start                 end\n",
       "train 2013-09-01 00:00:00 2014-04-02 00:00:00\n",
       "test  2014-04-02 01:00:00 2014-04-02 23:00:00"
      ]
     },
     "metadata": {},
     "output_type": "display_data"
    },
    {
     "name": "stdout",
     "output_type": "stream",
     "text": [
      "----- Fold: (3 / 14) -----\n"
     ]
    },
    {
     "data": {
      "text/html": [
       "<div>\n",
       "<style scoped>\n",
       "    .dataframe tbody tr th:only-of-type {\n",
       "        vertical-align: middle;\n",
       "    }\n",
       "\n",
       "    .dataframe tbody tr th {\n",
       "        vertical-align: top;\n",
       "    }\n",
       "\n",
       "    .dataframe thead th {\n",
       "        text-align: right;\n",
       "    }\n",
       "</style>\n",
       "<table border=\"1\" class=\"dataframe\">\n",
       "  <thead>\n",
       "    <tr style=\"text-align: right;\">\n",
       "      <th></th>\n",
       "      <th>start</th>\n",
       "      <th>end</th>\n",
       "    </tr>\n",
       "  </thead>\n",
       "  <tbody>\n",
       "    <tr>\n",
       "      <th>train</th>\n",
       "      <td>2013-09-01 00:00:00</td>\n",
       "      <td>2014-04-03 00:00:00</td>\n",
       "    </tr>\n",
       "    <tr>\n",
       "      <th>test</th>\n",
       "      <td>2014-04-03 01:00:00</td>\n",
       "      <td>2014-04-03 23:00:00</td>\n",
       "    </tr>\n",
       "  </tbody>\n",
       "</table>\n",
       "</div>"
      ],
      "text/plain": [
       "                    start                 end\n",
       "train 2013-09-01 00:00:00 2014-04-03 00:00:00\n",
       "test  2014-04-03 01:00:00 2014-04-03 23:00:00"
      ]
     },
     "metadata": {},
     "output_type": "display_data"
    },
    {
     "name": "stdout",
     "output_type": "stream",
     "text": [
      "----- Fold: (4 / 14) -----\n"
     ]
    },
    {
     "data": {
      "text/html": [
       "<div>\n",
       "<style scoped>\n",
       "    .dataframe tbody tr th:only-of-type {\n",
       "        vertical-align: middle;\n",
       "    }\n",
       "\n",
       "    .dataframe tbody tr th {\n",
       "        vertical-align: top;\n",
       "    }\n",
       "\n",
       "    .dataframe thead th {\n",
       "        text-align: right;\n",
       "    }\n",
       "</style>\n",
       "<table border=\"1\" class=\"dataframe\">\n",
       "  <thead>\n",
       "    <tr style=\"text-align: right;\">\n",
       "      <th></th>\n",
       "      <th>start</th>\n",
       "      <th>end</th>\n",
       "    </tr>\n",
       "  </thead>\n",
       "  <tbody>\n",
       "    <tr>\n",
       "      <th>train</th>\n",
       "      <td>2013-09-01 00:00:00</td>\n",
       "      <td>2014-04-04 00:00:00</td>\n",
       "    </tr>\n",
       "    <tr>\n",
       "      <th>test</th>\n",
       "      <td>2014-04-04 01:00:00</td>\n",
       "      <td>2014-04-04 23:00:00</td>\n",
       "    </tr>\n",
       "  </tbody>\n",
       "</table>\n",
       "</div>"
      ],
      "text/plain": [
       "                    start                 end\n",
       "train 2013-09-01 00:00:00 2014-04-04 00:00:00\n",
       "test  2014-04-04 01:00:00 2014-04-04 23:00:00"
      ]
     },
     "metadata": {},
     "output_type": "display_data"
    },
    {
     "name": "stdout",
     "output_type": "stream",
     "text": [
      "----- Fold: (5 / 14) -----\n"
     ]
    },
    {
     "data": {
      "text/html": [
       "<div>\n",
       "<style scoped>\n",
       "    .dataframe tbody tr th:only-of-type {\n",
       "        vertical-align: middle;\n",
       "    }\n",
       "\n",
       "    .dataframe tbody tr th {\n",
       "        vertical-align: top;\n",
       "    }\n",
       "\n",
       "    .dataframe thead th {\n",
       "        text-align: right;\n",
       "    }\n",
       "</style>\n",
       "<table border=\"1\" class=\"dataframe\">\n",
       "  <thead>\n",
       "    <tr style=\"text-align: right;\">\n",
       "      <th></th>\n",
       "      <th>start</th>\n",
       "      <th>end</th>\n",
       "    </tr>\n",
       "  </thead>\n",
       "  <tbody>\n",
       "    <tr>\n",
       "      <th>train</th>\n",
       "      <td>2013-09-01 00:00:00</td>\n",
       "      <td>2014-04-05 00:00:00</td>\n",
       "    </tr>\n",
       "    <tr>\n",
       "      <th>test</th>\n",
       "      <td>2014-04-05 01:00:00</td>\n",
       "      <td>2014-04-05 23:00:00</td>\n",
       "    </tr>\n",
       "  </tbody>\n",
       "</table>\n",
       "</div>"
      ],
      "text/plain": [
       "                    start                 end\n",
       "train 2013-09-01 00:00:00 2014-04-05 00:00:00\n",
       "test  2014-04-05 01:00:00 2014-04-05 23:00:00"
      ]
     },
     "metadata": {},
     "output_type": "display_data"
    },
    {
     "name": "stdout",
     "output_type": "stream",
     "text": [
      "----- Fold: (6 / 14) -----\n"
     ]
    },
    {
     "data": {
      "text/html": [
       "<div>\n",
       "<style scoped>\n",
       "    .dataframe tbody tr th:only-of-type {\n",
       "        vertical-align: middle;\n",
       "    }\n",
       "\n",
       "    .dataframe tbody tr th {\n",
       "        vertical-align: top;\n",
       "    }\n",
       "\n",
       "    .dataframe thead th {\n",
       "        text-align: right;\n",
       "    }\n",
       "</style>\n",
       "<table border=\"1\" class=\"dataframe\">\n",
       "  <thead>\n",
       "    <tr style=\"text-align: right;\">\n",
       "      <th></th>\n",
       "      <th>start</th>\n",
       "      <th>end</th>\n",
       "    </tr>\n",
       "  </thead>\n",
       "  <tbody>\n",
       "    <tr>\n",
       "      <th>train</th>\n",
       "      <td>2013-09-01 00:00:00</td>\n",
       "      <td>2014-04-06 00:00:00</td>\n",
       "    </tr>\n",
       "    <tr>\n",
       "      <th>test</th>\n",
       "      <td>2014-04-06 01:00:00</td>\n",
       "      <td>2014-04-06 23:00:00</td>\n",
       "    </tr>\n",
       "  </tbody>\n",
       "</table>\n",
       "</div>"
      ],
      "text/plain": [
       "                    start                 end\n",
       "train 2013-09-01 00:00:00 2014-04-06 00:00:00\n",
       "test  2014-04-06 01:00:00 2014-04-06 23:00:00"
      ]
     },
     "metadata": {},
     "output_type": "display_data"
    },
    {
     "name": "stdout",
     "output_type": "stream",
     "text": [
      "----- Fold: (7 / 14) -----\n"
     ]
    },
    {
     "data": {
      "text/html": [
       "<div>\n",
       "<style scoped>\n",
       "    .dataframe tbody tr th:only-of-type {\n",
       "        vertical-align: middle;\n",
       "    }\n",
       "\n",
       "    .dataframe tbody tr th {\n",
       "        vertical-align: top;\n",
       "    }\n",
       "\n",
       "    .dataframe thead th {\n",
       "        text-align: right;\n",
       "    }\n",
       "</style>\n",
       "<table border=\"1\" class=\"dataframe\">\n",
       "  <thead>\n",
       "    <tr style=\"text-align: right;\">\n",
       "      <th></th>\n",
       "      <th>start</th>\n",
       "      <th>end</th>\n",
       "    </tr>\n",
       "  </thead>\n",
       "  <tbody>\n",
       "    <tr>\n",
       "      <th>train</th>\n",
       "      <td>2013-09-01 00:00:00</td>\n",
       "      <td>2014-04-07 00:00:00</td>\n",
       "    </tr>\n",
       "    <tr>\n",
       "      <th>test</th>\n",
       "      <td>2014-04-07 01:00:00</td>\n",
       "      <td>2014-04-07 23:00:00</td>\n",
       "    </tr>\n",
       "  </tbody>\n",
       "</table>\n",
       "</div>"
      ],
      "text/plain": [
       "                    start                 end\n",
       "train 2013-09-01 00:00:00 2014-04-07 00:00:00\n",
       "test  2014-04-07 01:00:00 2014-04-07 23:00:00"
      ]
     },
     "metadata": {},
     "output_type": "display_data"
    },
    {
     "name": "stdout",
     "output_type": "stream",
     "text": [
      "----- Fold: (8 / 14) -----\n"
     ]
    },
    {
     "data": {
      "text/html": [
       "<div>\n",
       "<style scoped>\n",
       "    .dataframe tbody tr th:only-of-type {\n",
       "        vertical-align: middle;\n",
       "    }\n",
       "\n",
       "    .dataframe tbody tr th {\n",
       "        vertical-align: top;\n",
       "    }\n",
       "\n",
       "    .dataframe thead th {\n",
       "        text-align: right;\n",
       "    }\n",
       "</style>\n",
       "<table border=\"1\" class=\"dataframe\">\n",
       "  <thead>\n",
       "    <tr style=\"text-align: right;\">\n",
       "      <th></th>\n",
       "      <th>start</th>\n",
       "      <th>end</th>\n",
       "    </tr>\n",
       "  </thead>\n",
       "  <tbody>\n",
       "    <tr>\n",
       "      <th>train</th>\n",
       "      <td>2013-09-01 00:00:00</td>\n",
       "      <td>2014-08-01 00:00:00</td>\n",
       "    </tr>\n",
       "    <tr>\n",
       "      <th>test</th>\n",
       "      <td>2014-08-01 01:00:00</td>\n",
       "      <td>2014-08-01 23:00:00</td>\n",
       "    </tr>\n",
       "  </tbody>\n",
       "</table>\n",
       "</div>"
      ],
      "text/plain": [
       "                    start                 end\n",
       "train 2013-09-01 00:00:00 2014-08-01 00:00:00\n",
       "test  2014-08-01 01:00:00 2014-08-01 23:00:00"
      ]
     },
     "metadata": {},
     "output_type": "display_data"
    },
    {
     "name": "stdout",
     "output_type": "stream",
     "text": [
      "----- Fold: (9 / 14) -----\n"
     ]
    },
    {
     "data": {
      "text/html": [
       "<div>\n",
       "<style scoped>\n",
       "    .dataframe tbody tr th:only-of-type {\n",
       "        vertical-align: middle;\n",
       "    }\n",
       "\n",
       "    .dataframe tbody tr th {\n",
       "        vertical-align: top;\n",
       "    }\n",
       "\n",
       "    .dataframe thead th {\n",
       "        text-align: right;\n",
       "    }\n",
       "</style>\n",
       "<table border=\"1\" class=\"dataframe\">\n",
       "  <thead>\n",
       "    <tr style=\"text-align: right;\">\n",
       "      <th></th>\n",
       "      <th>start</th>\n",
       "      <th>end</th>\n",
       "    </tr>\n",
       "  </thead>\n",
       "  <tbody>\n",
       "    <tr>\n",
       "      <th>train</th>\n",
       "      <td>2013-09-01 00:00:00</td>\n",
       "      <td>2014-08-02 00:00:00</td>\n",
       "    </tr>\n",
       "    <tr>\n",
       "      <th>test</th>\n",
       "      <td>2014-08-02 01:00:00</td>\n",
       "      <td>2014-08-02 23:00:00</td>\n",
       "    </tr>\n",
       "  </tbody>\n",
       "</table>\n",
       "</div>"
      ],
      "text/plain": [
       "                    start                 end\n",
       "train 2013-09-01 00:00:00 2014-08-02 00:00:00\n",
       "test  2014-08-02 01:00:00 2014-08-02 23:00:00"
      ]
     },
     "metadata": {},
     "output_type": "display_data"
    },
    {
     "name": "stdout",
     "output_type": "stream",
     "text": [
      "----- Fold: (10 / 14) -----\n"
     ]
    },
    {
     "data": {
      "text/html": [
       "<div>\n",
       "<style scoped>\n",
       "    .dataframe tbody tr th:only-of-type {\n",
       "        vertical-align: middle;\n",
       "    }\n",
       "\n",
       "    .dataframe tbody tr th {\n",
       "        vertical-align: top;\n",
       "    }\n",
       "\n",
       "    .dataframe thead th {\n",
       "        text-align: right;\n",
       "    }\n",
       "</style>\n",
       "<table border=\"1\" class=\"dataframe\">\n",
       "  <thead>\n",
       "    <tr style=\"text-align: right;\">\n",
       "      <th></th>\n",
       "      <th>start</th>\n",
       "      <th>end</th>\n",
       "    </tr>\n",
       "  </thead>\n",
       "  <tbody>\n",
       "    <tr>\n",
       "      <th>train</th>\n",
       "      <td>2013-09-01 00:00:00</td>\n",
       "      <td>2014-08-03 00:00:00</td>\n",
       "    </tr>\n",
       "    <tr>\n",
       "      <th>test</th>\n",
       "      <td>2014-08-03 01:00:00</td>\n",
       "      <td>2014-08-03 23:00:00</td>\n",
       "    </tr>\n",
       "  </tbody>\n",
       "</table>\n",
       "</div>"
      ],
      "text/plain": [
       "                    start                 end\n",
       "train 2013-09-01 00:00:00 2014-08-03 00:00:00\n",
       "test  2014-08-03 01:00:00 2014-08-03 23:00:00"
      ]
     },
     "metadata": {},
     "output_type": "display_data"
    },
    {
     "name": "stdout",
     "output_type": "stream",
     "text": [
      "----- Fold: (11 / 14) -----\n"
     ]
    },
    {
     "data": {
      "text/html": [
       "<div>\n",
       "<style scoped>\n",
       "    .dataframe tbody tr th:only-of-type {\n",
       "        vertical-align: middle;\n",
       "    }\n",
       "\n",
       "    .dataframe tbody tr th {\n",
       "        vertical-align: top;\n",
       "    }\n",
       "\n",
       "    .dataframe thead th {\n",
       "        text-align: right;\n",
       "    }\n",
       "</style>\n",
       "<table border=\"1\" class=\"dataframe\">\n",
       "  <thead>\n",
       "    <tr style=\"text-align: right;\">\n",
       "      <th></th>\n",
       "      <th>start</th>\n",
       "      <th>end</th>\n",
       "    </tr>\n",
       "  </thead>\n",
       "  <tbody>\n",
       "    <tr>\n",
       "      <th>train</th>\n",
       "      <td>2013-09-01 00:00:00</td>\n",
       "      <td>2014-08-04 00:00:00</td>\n",
       "    </tr>\n",
       "    <tr>\n",
       "      <th>test</th>\n",
       "      <td>2014-08-04 01:00:00</td>\n",
       "      <td>2014-08-04 23:00:00</td>\n",
       "    </tr>\n",
       "  </tbody>\n",
       "</table>\n",
       "</div>"
      ],
      "text/plain": [
       "                    start                 end\n",
       "train 2013-09-01 00:00:00 2014-08-04 00:00:00\n",
       "test  2014-08-04 01:00:00 2014-08-04 23:00:00"
      ]
     },
     "metadata": {},
     "output_type": "display_data"
    },
    {
     "name": "stdout",
     "output_type": "stream",
     "text": [
      "----- Fold: (12 / 14) -----\n"
     ]
    },
    {
     "data": {
      "text/html": [
       "<div>\n",
       "<style scoped>\n",
       "    .dataframe tbody tr th:only-of-type {\n",
       "        vertical-align: middle;\n",
       "    }\n",
       "\n",
       "    .dataframe tbody tr th {\n",
       "        vertical-align: top;\n",
       "    }\n",
       "\n",
       "    .dataframe thead th {\n",
       "        text-align: right;\n",
       "    }\n",
       "</style>\n",
       "<table border=\"1\" class=\"dataframe\">\n",
       "  <thead>\n",
       "    <tr style=\"text-align: right;\">\n",
       "      <th></th>\n",
       "      <th>start</th>\n",
       "      <th>end</th>\n",
       "    </tr>\n",
       "  </thead>\n",
       "  <tbody>\n",
       "    <tr>\n",
       "      <th>train</th>\n",
       "      <td>2013-09-01 00:00:00</td>\n",
       "      <td>2014-08-05 00:00:00</td>\n",
       "    </tr>\n",
       "    <tr>\n",
       "      <th>test</th>\n",
       "      <td>2014-08-05 01:00:00</td>\n",
       "      <td>2014-08-05 23:00:00</td>\n",
       "    </tr>\n",
       "  </tbody>\n",
       "</table>\n",
       "</div>"
      ],
      "text/plain": [
       "                    start                 end\n",
       "train 2013-09-01 00:00:00 2014-08-05 00:00:00\n",
       "test  2014-08-05 01:00:00 2014-08-05 23:00:00"
      ]
     },
     "metadata": {},
     "output_type": "display_data"
    },
    {
     "name": "stdout",
     "output_type": "stream",
     "text": [
      "----- Fold: (13 / 14) -----\n"
     ]
    },
    {
     "data": {
      "text/html": [
       "<div>\n",
       "<style scoped>\n",
       "    .dataframe tbody tr th:only-of-type {\n",
       "        vertical-align: middle;\n",
       "    }\n",
       "\n",
       "    .dataframe tbody tr th {\n",
       "        vertical-align: top;\n",
       "    }\n",
       "\n",
       "    .dataframe thead th {\n",
       "        text-align: right;\n",
       "    }\n",
       "</style>\n",
       "<table border=\"1\" class=\"dataframe\">\n",
       "  <thead>\n",
       "    <tr style=\"text-align: right;\">\n",
       "      <th></th>\n",
       "      <th>start</th>\n",
       "      <th>end</th>\n",
       "    </tr>\n",
       "  </thead>\n",
       "  <tbody>\n",
       "    <tr>\n",
       "      <th>train</th>\n",
       "      <td>2013-09-01 00:00:00</td>\n",
       "      <td>2014-08-06 00:00:00</td>\n",
       "    </tr>\n",
       "    <tr>\n",
       "      <th>test</th>\n",
       "      <td>2014-08-06 01:00:00</td>\n",
       "      <td>2014-08-06 23:00:00</td>\n",
       "    </tr>\n",
       "  </tbody>\n",
       "</table>\n",
       "</div>"
      ],
      "text/plain": [
       "                    start                 end\n",
       "train 2013-09-01 00:00:00 2014-08-06 00:00:00\n",
       "test  2014-08-06 01:00:00 2014-08-06 23:00:00"
      ]
     },
     "metadata": {},
     "output_type": "display_data"
    },
    {
     "name": "stdout",
     "output_type": "stream",
     "text": [
      "----- Fold: (14 / 14) -----\n"
     ]
    },
    {
     "data": {
      "text/html": [
       "<div>\n",
       "<style scoped>\n",
       "    .dataframe tbody tr th:only-of-type {\n",
       "        vertical-align: middle;\n",
       "    }\n",
       "\n",
       "    .dataframe tbody tr th {\n",
       "        vertical-align: top;\n",
       "    }\n",
       "\n",
       "    .dataframe thead th {\n",
       "        text-align: right;\n",
       "    }\n",
       "</style>\n",
       "<table border=\"1\" class=\"dataframe\">\n",
       "  <thead>\n",
       "    <tr style=\"text-align: right;\">\n",
       "      <th></th>\n",
       "      <th>start</th>\n",
       "      <th>end</th>\n",
       "    </tr>\n",
       "  </thead>\n",
       "  <tbody>\n",
       "    <tr>\n",
       "      <th>train</th>\n",
       "      <td>2013-09-01 00:00:00</td>\n",
       "      <td>2014-08-07 00:00:00</td>\n",
       "    </tr>\n",
       "    <tr>\n",
       "      <th>test</th>\n",
       "      <td>2014-08-07 01:00:00</td>\n",
       "      <td>2014-08-07 23:00:00</td>\n",
       "    </tr>\n",
       "  </tbody>\n",
       "</table>\n",
       "</div>"
      ],
      "text/plain": [
       "                    start                 end\n",
       "train 2013-09-01 00:00:00 2014-08-07 00:00:00\n",
       "test  2014-08-07 01:00:00 2014-08-07 23:00:00"
      ]
     },
     "metadata": {},
     "output_type": "display_data"
    }
   ],
   "source": [
    "def show_cv_days(cv, X, dt_col):\n",
    "\n",
    "    for ii, (tr, tt) in enumerate(cv.split(X)):\n",
    "        print(f\"----- Fold: ({ii + 1} / {cv.get_n_splits()}) -----\")\n",
    "        tr_start = X.iloc[tr][dt_col].min()\n",
    "        tr_end = X.iloc[tr][dt_col].max()\n",
    "        # tr_days = X.iloc[tr][day_col].max() - X.iloc[tr][day_col].min() + 1\n",
    "\n",
    "        tt_start = X.iloc[tt][dt_col].min()\n",
    "        tt_end = X.iloc[tt][dt_col].max()\n",
    "\n",
    "        # tt_days = X.iloc[tt][day_col].max() - X.iloc[tt][day_col].min() + 1\n",
    "\n",
    "        df = pd.DataFrame(\n",
    "            {\n",
    "                \"start\": [tr_start, tt_start],\n",
    "                \"end\": [tr_end, tt_end],\n",
    "                # \"days\": [tr_days, tt_days],\n",
    "            },\n",
    "            index=[\"train\", \"test\"],\n",
    "        )\n",
    "\n",
    "        display(df)\n",
    "\n",
    "\n",
    "def plot_cv_indices(cv, X, dt_col, lw=10):\n",
    "    n_splits = cv.get_n_splits()\n",
    "    _, ax = plt.subplots(figsize=(20, n_splits + 2))\n",
    "    all_days = X[dt_col].unique().tolist()\n",
    "    all_days = [pd.to_datetime(day) for day in all_days]\n",
    "\n",
    "    memo = X[(X[\"station_id\"] == 0) & (X[\"date\"].isin(all_days))].index.values\n",
    "\n",
    "\n",
    "    # Generate the training/testing visualizations for each CV split\n",
    "    for ii, (tr, tt) in enumerate(cv.split(X)):\n",
    "        # Fill in indices with the training/test groups\n",
    "        indices = np.array([np.nan] * len(X))\n",
    "        indices[tt] = 1\n",
    "        indices[tr] = 0\n",
    "        indices = indices[memo]\n",
    "\n",
    "        # Visualize the results\n",
    "        ax.scatter(\n",
    "            X.loc[memo, dt_col],\n",
    "            [ii + 0.5] * len(indices),\n",
    "            c=indices,\n",
    "            marker=\"_\",\n",
    "            lw=lw,\n",
    "            cmap=plt.cm.coolwarm,\n",
    "            vmin=-0.2,\n",
    "            vmax=1.2,\n",
    "        )\n",
    "\n",
    "    # Formatting\n",
    "    MIDDLE = 15\n",
    "    LARGE = 20\n",
    "    ax.set_xlabel(\"Datetime\", fontsize=LARGE)\n",
    "    ax.set_xlim([X[dt_col].min(), X[dt_col].max()])\n",
    "    ax.set_ylabel(\"CV iteration\", fontsize=LARGE)\n",
    "    ax.set_yticks(np.arange(n_splits) + 0.5)\n",
    "    ax.set_yticklabels(list(range(n_splits)))\n",
    "    ax.invert_yaxis()\n",
    "    ax.tick_params(axis=\"both\", which=\"major\", labelsize=MIDDLE)\n",
    "    ax.set_title(\"{}\".format(type(cv).__name__), fontsize=LARGE)\n",
    "    # plt.show()\n",
    "    return ax\n",
    "\n",
    "show_cv_days(cv, status, \"date\")"
   ]
  },
  {
   "cell_type": "code",
   "execution_count": 18,
   "id": "48d850f1-a646-49e0-b689-57478f04cc86",
   "metadata": {},
   "outputs": [
    {
     "data": {
      "text/plain": [
       "<AxesSubplot:title={'center':'CustomTimesSeriesSplitter'}, xlabel='Datetime', ylabel='CV iteration'>"
      ]
     },
     "execution_count": 18,
     "metadata": {},
     "output_type": "execute_result"
    },
    {
     "data": {
      "image/png": "[encoded data removed]",
      "text/plain": [
       "<Figure size 1440x1152 with 1 Axes>"
      ]
     },
     "metadata": {
      "needs_background": "light"
     },
     "output_type": "display_data"
    }
   ],
   "source": [
    "plot_cv_indices(cv, status, \"date\")"
   ]
  },
  {
   "cell_type": "code",
   "execution_count": 27,
   "id": "ede458c2-c980-4c7c-8e98-d8479cc28f63",
   "metadata": {},
   "outputs": [
    {
     "name": "stdout",
     "output_type": "stream",
     "text": [
      "37.3307 -121.88898\n",
      "37.33399 -121.8949\n",
      "37.33141 -121.8932\n",
      "37.33672 -121.89407\n",
      "37.3338 -121.88694\n",
      "37.33017 -121.88583\n",
      "37.34874 -121.89471\n",
      "37.33739 -121.88699\n",
      "37.33588 -121.88566\n",
      "37.33281 -121.88389\n",
      "37.3393 -121.88994\n",
      "37.33269 -121.90008\n",
      "37.33395 -121.87735\n",
      "37.48176 -122.2269\n",
      "37.48608 -122.23209\n",
      "37.48762 -122.22995\n",
      "37.48422 -122.22742\n",
      "37.48537 -122.20329\n",
      "37.48768 -122.22349\n",
      "37.38922 -122.0819\n",
      "37.39436 -122.07671\n",
      "37.40694 -122.10676\n",
      "37.39028 -122.06655\n",
      "37.40044 -122.10834\n",
      "37.38596 -122.08368\n",
      "37.40024 -122.09908\n",
      "37.44399 -122.16476\n",
      "37.44452 -122.16309\n",
      "37.42908 -122.14281\n",
      "37.4486 -122.1595\n",
      "37.42568 -122.13778\n",
      "37.795 -122.39997\n",
      "37.79728 -122.39844\n",
      "37.79423 -122.40292\n",
      "37.79543 -122.40477\n",
      "37.78898 -122.40345\n",
      "37.79995 -122.39853\n",
      "37.7903 -122.39064\n",
      "37.79539 -122.3942\n",
      "37.79146 -122.39103\n",
      "37.78387 -122.40843\n",
      "37.78715 -122.38801\n",
      "37.78976 -122.39464\n",
      "37.79225 -122.39709\n",
      "37.78175 -122.40513\n",
      "37.77865 -122.41824\n",
      "37.78133 -122.4186\n",
      "37.80477 -122.40323\n",
      "37.78053 -122.39029\n",
      "37.7853 -122.39624\n",
      "37.78698 -122.39811\n",
      "37.78226 -122.39274\n",
      "37.77106 -122.40272\n",
      "37.77481 -122.41895\n",
      "37.77662 -122.41739\n",
      "37.78488 -122.40101\n",
      "37.7766 -122.39547\n",
      "37.77662 -122.39526\n",
      "37.78845 -122.4085\n",
      "37.78104 -122.41175\n",
      "37.79852 -122.40724\n",
      "37.79414 -122.39443\n",
      "37.7913 -122.39905\n",
      "37.7863 -122.40497\n",
      "37.78963 -122.40081\n",
      "37.3526 -121.90573\n",
      "37.79854 -122.40086\n",
      "37.49127 -122.23623\n"
     ]
    }
   ],
   "source": [
    "df=pd.read_csv('status.csv')\n",
    "station_id=df['station_id'].unique()\n",
    "station_df=pd.read_csv('station.csv')\n",
    "lst=[]\n",
    "for i in range(1,69):\n",
    "    lst.append([station_df['lat'][i],station_df['long'][i]])\n",
    "for i in lst:\n",
    "    print(i[0],i[1])\n",
    "    \n",
    "    "
   ]
  },
  {
   "cell_type": "code",
   "execution_count": 39,
   "id": "685736cc-e6b0-4f77-9b72-13d45c274a70",
   "metadata": {},
   "outputs": [
    {
     "name": "stderr",
     "output_type": "stream",
     "text": [
      "/var/folders/gn/djvsb3z11ds_3z9j8_kmvb9r0000gn/T/ipykernel_74987/1976232923.py:8: SettingWithCopyWarning: \n",
      "A value is trying to be set on a copy of a slice from a DataFrame\n",
      "\n",
      "See the caveats in the documentation: https://pandas.pydata.org/pandas-docs/stable/user_guide/indexing.html#returning-a-view-versus-a-copy\n",
      "  df['dock_count'][i]=df_station['dock_count'][si]\n"
     ]
    }
   ],
   "source": [
    "df=pd.read_csv('train.csv')\n",
    "df_station=pd.read_csv('station.csv')\n",
    "\n",
    "df_station['dock_count'][1]\n",
    "df['dock_count']=0\n",
    "for i in range(len(df)):\n",
    "    si=df['station_id'][i]\n",
    "    df['dock_count'][i]=df_station['dock_count'][si]\n",
    "df.to_csv('train.csv',index=False)\n",
    "    "
   ]
  },
  {
   "cell_type": "code",
   "execution_count": 56,
   "id": "6b2a4e4f-58d1-46fc-9317-0a3b562b7905",
   "metadata": {},
   "outputs": [],
   "source": [
    "#時系列(横軸時間-台数)グラフの作成\n",
    "import datetime\n",
    "\n",
    "df=pd.read_csv('train.csv')\n",
    "df_station=pd.read_csv('station.csv')\n",
    "df['timedate']=0\n",
    "df['day_bike']=0\n",
    "df['month_day']=0\n",
    "n=525658//24\n",
    "for i in range(3):\n",
    "    df['day_count']=df['dock_count'][i*24+1:(i+1)*24].sum()\n",
    "    df['day_bike']=df['bikes_available'][i*24+1:(i+1)*24].sum()\n",
    "    a=df['dock_count'][i*24+1:(i+1)*24].sum()\n",
    "    year=df['year'][i*24+1]\n",
    "    month=df['month'][i*24+1]\n",
    "    day=df['day'][i*24+1]\n",
    "    tdatetime=datetime.date(year,month,day)\n",
    "    \n",
    "df.to_csv('train_csv',index=False)\n",
    "    \n",
    "    \n",
    "\n",
    "\n",
    "    \n",
    "    \n",
    "\n",
    "    \n"
   ]
  },
  {
   "cell_type": "code",
   "execution_count": null,
   "id": "b68d3def-67ac-4cce-a750-fa76566538c4",
   "metadata": {},
   "outputs": [],
   "source": []
  },
  {
   "cell_type": "code",
   "execution_count": null,
   "id": "39ee7928-31d0-4832-8f98-964aec2e0f64",
   "metadata": {},
   "outputs": [],
   "source": []
  }
 ],
 "metadata": {
  "kernelspec": {
   "display_name": "Python 3 (ipykernel)",
   "language": "python",
   "name": "python3"
  },
  "language_info": {
   "codemirror_mode": {
    "name": "ipython",
    "version": 3
   },
   "file_extension": ".py",
   "mimetype": "text/x-python",
   "name": "python",
   "nbconvert_exporter": "python",
   "pygments_lexer": "ipython3",
   "version": "3.8.2"
  }
 },
 "nbformat": 4,
 "nbformat_minor": 5
}
